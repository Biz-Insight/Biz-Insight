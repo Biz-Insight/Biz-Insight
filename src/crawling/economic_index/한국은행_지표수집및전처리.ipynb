{
 "cells": [
  {
   "cell_type": "markdown",
   "metadata": {},
   "source": [
    "# 크롤러"
   ]
  },
  {
   "cell_type": "code",
   "execution_count": 50,
   "metadata": {},
   "outputs": [],
   "source": [
    "import pandas as pd\n",
    "import requests\n",
    "\n",
    "def get_bok_df(info, classification,start_data, end_data, specific_info):\n",
    "    apikey = \"HF0ML1Y9A0RN7R7K4JE2\"\n",
    "    url = 'https://ecos.bok.or.kr/api/StatisticSearch/' + apikey + '/json/kr/1/100/817Y002/D/20180101/20221231/010200000'\n",
    "    response = requests.get(url)\n",
    "\n",
    "    result = response.json()\n",
    "    list_total_count=(int)(result['StatisticSearch']['list_total_count'])\n",
    "    list_count=(int)(list_total_count/100) + 1\n",
    "    rows=[]\n",
    "    for i in range(0,list_count):\n",
    "        start = str(i * 100 + 1)\n",
    "        end = str((i + 1) * 100)\n",
    "        url = 'https://ecos.bok.or.kr/api/StatisticSearch/' + apikey + '/json/kr/' \\\n",
    "                + start + '/' + end + f\"/{info}/{classification}/{start_data}/{end_data}/{specific_info}\" \n",
    "        response = requests.get(url)\n",
    "        result = response.json()\n",
    "        rows = rows + result['StatisticSearch']['row']\n",
    "    df=pd.DataFrame(rows)\n",
    "    return df\n"
   ]
  },
  {
   "cell_type": "markdown",
   "metadata": {},
   "source": [
    "## 파라미터 정보"
   ]
  },
  {
   "cell_type": "code",
   "execution_count": 51,
   "metadata": {},
   "outputs": [],
   "source": [
    "# 원화의 대미 달러 종가기준 연평균\n",
    "param_uskor_exchange = ['731Y006', 'A', 2018, 2022, '0000003']\n",
    "\n",
    "# M2 경제주체별 연평균, 단위 십억원\n",
    "param_m2 = ['101Y015', 'A', 2018, 2022, 'BBHA00']\n",
    "\n",
    "# 생산자물가지수 연평균, 2015년 PPI를 100으로 함.\n",
    "param_PPI = ['404Y014', 'A', 2018, 2022, '*AA']\n",
    "\n",
    "\n",
    "# 한국 정책금리 월단위\n",
    "param_kr_policyratio = ['902Y006', 'M', 201801, 202212, 'KR']\n",
    "# 미국 정책금리 월단위\n",
    "param_us_policyratio = ['902Y006', 'M', 201801, 202212, 'US']\n",
    "\n",
    "# 한국은행 기준금리 일단위\n",
    "param_kor_standard_yield = ['722Y001', 'A', 2018, 2022, '0101000']\n",
    "# # 국고채 3년물 금리 일단위 -> 집계필요\n",
    "# param_kor_govrn_3ybond = ['817Y002', 'D', 20180101, 20221231, '010200000'] "
   ]
  },
  {
   "cell_type": "code",
   "execution_count": 52,
   "metadata": {},
   "outputs": [],
   "source": [
    "# 환율, 통화량, 생산자 물가지수 연평균\n",
    "uskor_exchange_year = get_bok_df(*param_uskor_exchange)\n",
    "m2_year = get_bok_df(*param_m2)\n",
    "PPI_year = get_bok_df(*param_PPI)\n",
    "\n",
    "# 월단위 정책금리\n",
    "kr_policyratio_month  = get_bok_df(*param_kr_policyratio)\n",
    "us_policyratio_month = get_bok_df(*param_us_policyratio)\n",
    "kr_standard_yield = get_bok_df(*param_kor_standard_yield)\n"
   ]
  },
  {
   "cell_type": "markdown",
   "metadata": {},
   "source": [
    "### 최저임금 데이터 로드 - csv file"
   ]
  },
  {
   "cell_type": "code",
   "execution_count": 53,
   "metadata": {},
   "outputs": [],
   "source": [
    "minimum_wage_1423 = pd.read_csv(\"C:/Users/USER_20211027/Desktop/final_project/github/Final-Project/data/고용노동부_연도별 최저임금_2014_2023.csv\", encoding=\"utf-8\")"
   ]
  },
  {
   "cell_type": "markdown",
   "metadata": {},
   "source": [
    "## 데이터 프레임으로 저장"
   ]
  },
  {
   "cell_type": "markdown",
   "metadata": {},
   "source": [
    "# DB 전송"
   ]
  },
  {
   "cell_type": "code",
   "execution_count": 9,
   "metadata": {},
   "outputs": [],
   "source": [
    "def pythondf_to_DB(dataframe_name, database_name, desired_table_name):\n",
    "\timport pymysql\n",
    "\tfrom sqlalchemy import create_engine\n",
    "\tfrom sqlalchemy.orm import sessionmaker\n",
    "\tusername = 'multi'\n",
    "\tpassword = 'Campus123!'\n",
    "\thostname =  'ec2-15-152-211-160.ap-northeast-3.compute.amazonaws.com'\n",
    "\tdatabase_name = database_name\n",
    "\tdesired_table_name = desired_table_name\n",
    "\tcnx = pymysql.connect(user=username, password=password, host=hostname)\n",
    "\tcursor = cnx.cursor()\n",
    "\tengine = create_engine(\"mysql+pymysql://{user}:{pw}@{host}/{db}\"\n",
    "\t\t\t\t\t\t.format(user=username,\n",
    "\t\t\t\t\t\t\t\tpw=password,\n",
    "\t\t\t\t\t\t\t\tdb=database_name,\n",
    "\t\t\t\t\t\t\t\thost=hostname))\n",
    "\tSession = sessionmaker(bind=engine)\n",
    "\tsession = Session()\n",
    "\ttry:\n",
    "\t\t# Change df name\n",
    "\t\tdataframe_name.to_sql(desired_table_name, con=engine, if_exists='replace', index=False, chunksize = 1000)\n",
    "\t\tsession.commit()\n",
    "\texcept:\n",
    "\t\tsession.rollback()\n",
    "\t\traise\n",
    "\tfinally:\n",
    "\t\tsession.close()\n",
    "\tcursor.close()"
   ]
  },
  {
   "cell_type": "markdown",
   "metadata": {},
   "source": [
    "## Data Lake upload"
   ]
  },
  {
   "cell_type": "code",
   "execution_count": 59,
   "metadata": {},
   "outputs": [],
   "source": [
    "# def pythondf_to_DB(dataframe_name, \"database_name\", \"desired_table_name\")\n",
    "\n",
    "# 연평균 원/달러 환율\n",
    "pythondf_to_DB(uskor_exchange_year, \"Data_Lake\", \"uskor_exchange_year\")\n",
    "\n",
    "# 연평균 통화량\n",
    "pythondf_to_DB(m2_year, \"Data_Lake\", \"m2_year\")\n",
    "\n",
    "# 연평균 생산자 물가\n",
    "pythondf_to_DB(PPI_year, \"Data_Lake\", \"PPI_year\")\n",
    "\n",
    "# 한국, 미국 월단위 정책금리\n",
    "pythondf_to_DB(kr_policyratio_month, \"Data_Lake\", \"kr_policyratio_month\")\n",
    "pythondf_to_DB(us_policyratio_month, \"Data_Lake\", \"us_policyratio_month\")\n",
    "\n",
    "# 연별 최저임금\n",
    "pythondf_to_DB(minimum_wage_1423, \"Data_Lake\", \"minimum_wage_1423\")\n",
    "\n",
    "# 연별 한국기준금리\n",
    "pythondf_to_DB(kr_standard_yield, \"Data_Lake\", \"kr_standard_yield\")\n"
   ]
  },
  {
   "cell_type": "markdown",
   "metadata": {},
   "source": [
    "# # Data Warehouse - 테이블 변경"
   ]
  },
  {
   "cell_type": "markdown",
   "metadata": {},
   "source": [
    "정책금리차 테이블 변경"
   ]
  },
  {
   "cell_type": "code",
   "execution_count": 61,
   "metadata": {},
   "outputs": [],
   "source": [
    "uskor_exchange_year_df = uskor_exchange_year.copy()\n",
    "\n",
    "m2_year_df = m2_year.copy()\n",
    "\n",
    "PPI_year_df = PPI_year.copy()\n",
    "\n",
    "kr_policyratio_month_df = kr_policyratio_month.copy()\n",
    "\n",
    "us_policyratio_month_df = us_policyratio_month.copy()\n",
    "\n",
    "minimum_wage_1423_df = minimum_wage_1423.copy()\n",
    "\n",
    "kr_standard_yield_df = kr_standard_yield.copy()\n"
   ]
  },
  {
   "cell_type": "code",
   "execution_count": 62,
   "metadata": {},
   "outputs": [],
   "source": [
    "kr_policyratio_month_df['TIME'] = pd.to_datetime(kr_policyratio_month_df['TIME'], format='%Y%m')\n",
    "kr_policyratio_month_df['YEAR'] = kr_policyratio_month_df['TIME'].dt.year\n",
    "kr_policyratio_month_df['DATA_VALUE'] = kr_policyratio_month_df['DATA_VALUE'].astype(float)\n",
    "kr_policyratio_year = kr_policyratio_month_df.groupby('YEAR')['DATA_VALUE'].mean().round(4)\n",
    "\n",
    "us_policyratio_month_df['TIME'] = pd.to_datetime(us_policyratio_month_df['TIME'], format='%Y%m')\n",
    "us_policyratio_month_df['YEAR'] = us_policyratio_month_df['TIME'].dt.year\n",
    "us_policyratio_month_df['DATA_VALUE'] = us_policyratio_month_df['DATA_VALUE'].astype(float)\n",
    "us_policyratio_year = us_policyratio_month_df.groupby('YEAR')['DATA_VALUE'].mean().round(4)"
   ]
  },
  {
   "cell_type": "code",
   "execution_count": 63,
   "metadata": {},
   "outputs": [],
   "source": [
    "# 한국정책금리 - 미국정책금리 -> 양수값이 나오면 한국정책금리 > 미국정책금리\n",
    "kr_minus_us_policyratio = kr_policyratio_year - us_policyratio_year\n",
    "krus_diff_policyratio = pd.DataFrame({'year': kr_minus_us_policyratio.index, 'kr_minus_us_rate': kr_minus_us_policyratio.values})\n",
    "\n",
    "# # 결과 출력\n",
    "# print(df_kr_minus_us_policyratio)"
   ]
  },
  {
   "cell_type": "markdown",
   "metadata": {},
   "source": [
    "달러원 환율 테이블 변경"
   ]
  },
  {
   "cell_type": "code",
   "execution_count": 64,
   "metadata": {},
   "outputs": [],
   "source": [
    "uskor_exchange_year_average = uskor_exchange_year_df[uskor_exchange_year_df.ITEM_NAME2==\"평균자료\"]"
   ]
  },
  {
   "cell_type": "code",
   "execution_count": 65,
   "metadata": {},
   "outputs": [],
   "source": [
    "exchangerate_USDKRX_avg = uskor_exchange_year_average[['TIME', 'DATA_VALUE']]\n",
    "exchangerate_USDKRX_avg = exchangerate_USDKRX_avg.rename(columns={'DATA_VALUE': 'uskor_exchange_average', 'TIME': 'year'})"
   ]
  },
  {
   "cell_type": "markdown",
   "metadata": {},
   "source": [
    "M2 통화량"
   ]
  },
  {
   "cell_type": "code",
   "execution_count": 67,
   "metadata": {},
   "outputs": [],
   "source": [
    "m2_year_df = m2_year_df[['TIME', 'DATA_VALUE']]\n",
    "m2_year_df = m2_year_df.rename(columns={'DATA_VALUE': 'm2_year', 'TIME': 'year'})\n"
   ]
  },
  {
   "cell_type": "markdown",
   "metadata": {},
   "source": [
    "생산자 물가지수"
   ]
  },
  {
   "cell_type": "code",
   "execution_count": 68,
   "metadata": {},
   "outputs": [],
   "source": [
    "PPI_year_df = PPI_year_df[['TIME', 'DATA_VALUE']]\n",
    "PPI_year_df = PPI_year_df.rename(columns={'DATA_VALUE': 'PPI_year', 'TIME': 'year'})"
   ]
  },
  {
   "cell_type": "code",
   "execution_count": 69,
   "metadata": {},
   "outputs": [
    {
     "data": {
      "text/html": [
       "<div>\n",
       "<style scoped>\n",
       "    .dataframe tbody tr th:only-of-type {\n",
       "        vertical-align: middle;\n",
       "    }\n",
       "\n",
       "    .dataframe tbody tr th {\n",
       "        vertical-align: top;\n",
       "    }\n",
       "\n",
       "    .dataframe thead th {\n",
       "        text-align: right;\n",
       "    }\n",
       "</style>\n",
       "<table border=\"1\" class=\"dataframe\">\n",
       "  <thead>\n",
       "    <tr style=\"text-align: right;\">\n",
       "      <th></th>\n",
       "      <th>year</th>\n",
       "      <th>PPI_year</th>\n",
       "    </tr>\n",
       "  </thead>\n",
       "  <tbody>\n",
       "    <tr>\n",
       "      <th>0</th>\n",
       "      <td>2018</td>\n",
       "      <td>103.48</td>\n",
       "    </tr>\n",
       "    <tr>\n",
       "      <th>1</th>\n",
       "      <td>2019</td>\n",
       "      <td>103.5</td>\n",
       "    </tr>\n",
       "    <tr>\n",
       "      <th>2</th>\n",
       "      <td>2020</td>\n",
       "      <td>103.03</td>\n",
       "    </tr>\n",
       "    <tr>\n",
       "      <th>3</th>\n",
       "      <td>2021</td>\n",
       "      <td>109.6</td>\n",
       "    </tr>\n",
       "    <tr>\n",
       "      <th>4</th>\n",
       "      <td>2022</td>\n",
       "      <td>118.78</td>\n",
       "    </tr>\n",
       "  </tbody>\n",
       "</table>\n",
       "</div>"
      ],
      "text/plain": [
       "   year PPI_year\n",
       "0  2018   103.48\n",
       "1  2019    103.5\n",
       "2  2020   103.03\n",
       "3  2021    109.6\n",
       "4  2022   118.78"
      ]
     },
     "execution_count": 69,
     "metadata": {},
     "output_type": "execute_result"
    }
   ],
   "source": [
    "PPI_year_df"
   ]
  },
  {
   "cell_type": "markdown",
   "metadata": {},
   "source": [
    "최저임금 테이블 변경"
   ]
  },
  {
   "cell_type": "code",
   "execution_count": 71,
   "metadata": {},
   "outputs": [
    {
     "data": {
      "text/html": [
       "<div>\n",
       "<style scoped>\n",
       "    .dataframe tbody tr th:only-of-type {\n",
       "        vertical-align: middle;\n",
       "    }\n",
       "\n",
       "    .dataframe tbody tr th {\n",
       "        vertical-align: top;\n",
       "    }\n",
       "\n",
       "    .dataframe thead th {\n",
       "        text-align: right;\n",
       "    }\n",
       "</style>\n",
       "<table border=\"1\" class=\"dataframe\">\n",
       "  <thead>\n",
       "    <tr style=\"text-align: right;\">\n",
       "      <th></th>\n",
       "      <th>����</th>\n",
       "      <th>����.1</th>\n",
       "      <th>�ð���</th>\n",
       "    </tr>\n",
       "  </thead>\n",
       "  <tbody>\n",
       "    <tr>\n",
       "      <th>0</th>\n",
       "      <td>1</td>\n",
       "      <td>2023</td>\n",
       "      <td>9620</td>\n",
       "    </tr>\n",
       "    <tr>\n",
       "      <th>1</th>\n",
       "      <td>2</td>\n",
       "      <td>2022</td>\n",
       "      <td>9160</td>\n",
       "    </tr>\n",
       "    <tr>\n",
       "      <th>2</th>\n",
       "      <td>3</td>\n",
       "      <td>2021</td>\n",
       "      <td>8720</td>\n",
       "    </tr>\n",
       "    <tr>\n",
       "      <th>3</th>\n",
       "      <td>4</td>\n",
       "      <td>2020</td>\n",
       "      <td>8590</td>\n",
       "    </tr>\n",
       "    <tr>\n",
       "      <th>4</th>\n",
       "      <td>5</td>\n",
       "      <td>2019</td>\n",
       "      <td>8350</td>\n",
       "    </tr>\n",
       "    <tr>\n",
       "      <th>5</th>\n",
       "      <td>6</td>\n",
       "      <td>2018</td>\n",
       "      <td>7530</td>\n",
       "    </tr>\n",
       "    <tr>\n",
       "      <th>6</th>\n",
       "      <td>7</td>\n",
       "      <td>2017</td>\n",
       "      <td>6470</td>\n",
       "    </tr>\n",
       "    <tr>\n",
       "      <th>7</th>\n",
       "      <td>8</td>\n",
       "      <td>2016</td>\n",
       "      <td>6030</td>\n",
       "    </tr>\n",
       "    <tr>\n",
       "      <th>8</th>\n",
       "      <td>9</td>\n",
       "      <td>2015</td>\n",
       "      <td>5580</td>\n",
       "    </tr>\n",
       "    <tr>\n",
       "      <th>9</th>\n",
       "      <td>10</td>\n",
       "      <td>2014</td>\n",
       "      <td>5210</td>\n",
       "    </tr>\n",
       "  </tbody>\n",
       "</table>\n",
       "</div>"
      ],
      "text/plain": [
       "   ����  ����.1  �ð���\n",
       "0     1    2023   9620\n",
       "1     2    2022   9160\n",
       "2     3    2021   8720\n",
       "3     4    2020   8590\n",
       "4     5    2019   8350\n",
       "5     6    2018   7530\n",
       "6     7    2017   6470\n",
       "7     8    2016   6030\n",
       "8     9    2015   5580\n",
       "9    10    2014   5210"
      ]
     },
     "execution_count": 71,
     "metadata": {},
     "output_type": "execute_result"
    }
   ],
   "source": [
    "minimum_wage_1423_df"
   ]
  },
  {
   "cell_type": "code",
   "execution_count": 72,
   "metadata": {},
   "outputs": [],
   "source": [
    "minimum_wage_1423_df = minimum_wage_1423[['����.1', '�ð���']]\n",
    "minimum_wage_1423_df = minimum_wage_1423_df.rename(columns={'����.1': 'year', '�ð���': 'minimum_wag'})"
   ]
  },
  {
   "cell_type": "markdown",
   "metadata": {},
   "source": [
    "### 변경완료된 df - 통화량, 환율, 최저임금, 정책금리차"
   ]
  },
  {
   "cell_type": "code",
   "execution_count": 73,
   "metadata": {},
   "outputs": [],
   "source": [
    "minimum_wage_1423 = minimum_wage_1423_df[1:6]"
   ]
  },
  {
   "cell_type": "code",
   "execution_count": 74,
   "metadata": {},
   "outputs": [
    {
     "data": {
      "text/html": [
       "<div>\n",
       "<style scoped>\n",
       "    .dataframe tbody tr th:only-of-type {\n",
       "        vertical-align: middle;\n",
       "    }\n",
       "\n",
       "    .dataframe tbody tr th {\n",
       "        vertical-align: top;\n",
       "    }\n",
       "\n",
       "    .dataframe thead th {\n",
       "        text-align: right;\n",
       "    }\n",
       "</style>\n",
       "<table border=\"1\" class=\"dataframe\">\n",
       "  <thead>\n",
       "    <tr style=\"text-align: right;\">\n",
       "      <th></th>\n",
       "      <th>year</th>\n",
       "      <th>minimum_wag</th>\n",
       "    </tr>\n",
       "  </thead>\n",
       "  <tbody>\n",
       "    <tr>\n",
       "      <th>1</th>\n",
       "      <td>2022</td>\n",
       "      <td>9160</td>\n",
       "    </tr>\n",
       "    <tr>\n",
       "      <th>2</th>\n",
       "      <td>2021</td>\n",
       "      <td>8720</td>\n",
       "    </tr>\n",
       "    <tr>\n",
       "      <th>3</th>\n",
       "      <td>2020</td>\n",
       "      <td>8590</td>\n",
       "    </tr>\n",
       "    <tr>\n",
       "      <th>4</th>\n",
       "      <td>2019</td>\n",
       "      <td>8350</td>\n",
       "    </tr>\n",
       "    <tr>\n",
       "      <th>5</th>\n",
       "      <td>2018</td>\n",
       "      <td>7530</td>\n",
       "    </tr>\n",
       "  </tbody>\n",
       "</table>\n",
       "</div>"
      ],
      "text/plain": [
       "   year  minimum_wag\n",
       "1  2022         9160\n",
       "2  2021         8720\n",
       "3  2020         8590\n",
       "4  2019         8350\n",
       "5  2018         7530"
      ]
     },
     "execution_count": 74,
     "metadata": {},
     "output_type": "execute_result"
    }
   ],
   "source": [
    "minimum_wage_1423"
   ]
  },
  {
   "cell_type": "markdown",
   "metadata": {},
   "source": [
    "한국 기준금리"
   ]
  },
  {
   "cell_type": "code",
   "execution_count": 75,
   "metadata": {},
   "outputs": [
    {
     "data": {
      "text/html": [
       "<div>\n",
       "<style scoped>\n",
       "    .dataframe tbody tr th:only-of-type {\n",
       "        vertical-align: middle;\n",
       "    }\n",
       "\n",
       "    .dataframe tbody tr th {\n",
       "        vertical-align: top;\n",
       "    }\n",
       "\n",
       "    .dataframe thead th {\n",
       "        text-align: right;\n",
       "    }\n",
       "</style>\n",
       "<table border=\"1\" class=\"dataframe\">\n",
       "  <thead>\n",
       "    <tr style=\"text-align: right;\">\n",
       "      <th></th>\n",
       "      <th>STAT_CODE</th>\n",
       "      <th>STAT_NAME</th>\n",
       "      <th>ITEM_CODE1</th>\n",
       "      <th>ITEM_NAME1</th>\n",
       "      <th>ITEM_CODE2</th>\n",
       "      <th>ITEM_NAME2</th>\n",
       "      <th>ITEM_CODE3</th>\n",
       "      <th>ITEM_NAME3</th>\n",
       "      <th>ITEM_CODE4</th>\n",
       "      <th>ITEM_NAME4</th>\n",
       "      <th>UNIT_NAME</th>\n",
       "      <th>TIME</th>\n",
       "      <th>DATA_VALUE</th>\n",
       "    </tr>\n",
       "  </thead>\n",
       "  <tbody>\n",
       "    <tr>\n",
       "      <th>0</th>\n",
       "      <td>722Y001</td>\n",
       "      <td>1.3.1. 한국은행 기준금리 및 여수신금리</td>\n",
       "      <td>0101000</td>\n",
       "      <td>한국은행 기준금리</td>\n",
       "      <td>None</td>\n",
       "      <td>None</td>\n",
       "      <td>None</td>\n",
       "      <td>None</td>\n",
       "      <td>None</td>\n",
       "      <td>None</td>\n",
       "      <td>연%</td>\n",
       "      <td>2018</td>\n",
       "      <td>1.75</td>\n",
       "    </tr>\n",
       "    <tr>\n",
       "      <th>1</th>\n",
       "      <td>722Y001</td>\n",
       "      <td>1.3.1. 한국은행 기준금리 및 여수신금리</td>\n",
       "      <td>0101000</td>\n",
       "      <td>한국은행 기준금리</td>\n",
       "      <td>None</td>\n",
       "      <td>None</td>\n",
       "      <td>None</td>\n",
       "      <td>None</td>\n",
       "      <td>None</td>\n",
       "      <td>None</td>\n",
       "      <td>연%</td>\n",
       "      <td>2019</td>\n",
       "      <td>1.25</td>\n",
       "    </tr>\n",
       "    <tr>\n",
       "      <th>2</th>\n",
       "      <td>722Y001</td>\n",
       "      <td>1.3.1. 한국은행 기준금리 및 여수신금리</td>\n",
       "      <td>0101000</td>\n",
       "      <td>한국은행 기준금리</td>\n",
       "      <td>None</td>\n",
       "      <td>None</td>\n",
       "      <td>None</td>\n",
       "      <td>None</td>\n",
       "      <td>None</td>\n",
       "      <td>None</td>\n",
       "      <td>연%</td>\n",
       "      <td>2020</td>\n",
       "      <td>0.5</td>\n",
       "    </tr>\n",
       "    <tr>\n",
       "      <th>3</th>\n",
       "      <td>722Y001</td>\n",
       "      <td>1.3.1. 한국은행 기준금리 및 여수신금리</td>\n",
       "      <td>0101000</td>\n",
       "      <td>한국은행 기준금리</td>\n",
       "      <td>None</td>\n",
       "      <td>None</td>\n",
       "      <td>None</td>\n",
       "      <td>None</td>\n",
       "      <td>None</td>\n",
       "      <td>None</td>\n",
       "      <td>연%</td>\n",
       "      <td>2021</td>\n",
       "      <td>1</td>\n",
       "    </tr>\n",
       "    <tr>\n",
       "      <th>4</th>\n",
       "      <td>722Y001</td>\n",
       "      <td>1.3.1. 한국은행 기준금리 및 여수신금리</td>\n",
       "      <td>0101000</td>\n",
       "      <td>한국은행 기준금리</td>\n",
       "      <td>None</td>\n",
       "      <td>None</td>\n",
       "      <td>None</td>\n",
       "      <td>None</td>\n",
       "      <td>None</td>\n",
       "      <td>None</td>\n",
       "      <td>연%</td>\n",
       "      <td>2022</td>\n",
       "      <td>3.25</td>\n",
       "    </tr>\n",
       "  </tbody>\n",
       "</table>\n",
       "</div>"
      ],
      "text/plain": [
       "  STAT_CODE                 STAT_NAME ITEM_CODE1 ITEM_NAME1 ITEM_CODE2  \\\n",
       "0   722Y001  1.3.1. 한국은행 기준금리 및 여수신금리    0101000  한국은행 기준금리       None   \n",
       "1   722Y001  1.3.1. 한국은행 기준금리 및 여수신금리    0101000  한국은행 기준금리       None   \n",
       "2   722Y001  1.3.1. 한국은행 기준금리 및 여수신금리    0101000  한국은행 기준금리       None   \n",
       "3   722Y001  1.3.1. 한국은행 기준금리 및 여수신금리    0101000  한국은행 기준금리       None   \n",
       "4   722Y001  1.3.1. 한국은행 기준금리 및 여수신금리    0101000  한국은행 기준금리       None   \n",
       "\n",
       "  ITEM_NAME2 ITEM_CODE3 ITEM_NAME3 ITEM_CODE4 ITEM_NAME4 UNIT_NAME  TIME  \\\n",
       "0       None       None       None       None       None        연%  2018   \n",
       "1       None       None       None       None       None        연%  2019   \n",
       "2       None       None       None       None       None        연%  2020   \n",
       "3       None       None       None       None       None        연%  2021   \n",
       "4       None       None       None       None       None        연%  2022   \n",
       "\n",
       "  DATA_VALUE  \n",
       "0       1.75  \n",
       "1       1.25  \n",
       "2        0.5  \n",
       "3          1  \n",
       "4       3.25  "
      ]
     },
     "execution_count": 75,
     "metadata": {},
     "output_type": "execute_result"
    }
   ],
   "source": [
    "kr_standard_yield_df"
   ]
  },
  {
   "cell_type": "code",
   "execution_count": 76,
   "metadata": {},
   "outputs": [],
   "source": [
    "kr_standard_yield_df = kr_standard_yield_df[['TIME', 'DATA_VALUE']]\n",
    "kr_standard_yield_df = kr_standard_yield_df.rename(columns={'DATA_VALUE': 'kr_standard_yield', 'TIME': 'year'})\n",
    "kr_standard_yield_df['year'] = kr_standard_yield_df['year'].astype(str)\n",
    "kr_standard_yield_df['kr_standard_yield'] = kr_standard_yield_df['kr_standard_yield'].astype(float)\n"
   ]
  },
  {
   "cell_type": "code",
   "execution_count": 77,
   "metadata": {},
   "outputs": [
    {
     "data": {
      "text/html": [
       "<div>\n",
       "<style scoped>\n",
       "    .dataframe tbody tr th:only-of-type {\n",
       "        vertical-align: middle;\n",
       "    }\n",
       "\n",
       "    .dataframe tbody tr th {\n",
       "        vertical-align: top;\n",
       "    }\n",
       "\n",
       "    .dataframe thead th {\n",
       "        text-align: right;\n",
       "    }\n",
       "</style>\n",
       "<table border=\"1\" class=\"dataframe\">\n",
       "  <thead>\n",
       "    <tr style=\"text-align: right;\">\n",
       "      <th></th>\n",
       "      <th>year</th>\n",
       "      <th>kr_standard_yield</th>\n",
       "    </tr>\n",
       "  </thead>\n",
       "  <tbody>\n",
       "    <tr>\n",
       "      <th>0</th>\n",
       "      <td>2018</td>\n",
       "      <td>1.75</td>\n",
       "    </tr>\n",
       "    <tr>\n",
       "      <th>1</th>\n",
       "      <td>2019</td>\n",
       "      <td>1.25</td>\n",
       "    </tr>\n",
       "    <tr>\n",
       "      <th>2</th>\n",
       "      <td>2020</td>\n",
       "      <td>0.50</td>\n",
       "    </tr>\n",
       "    <tr>\n",
       "      <th>3</th>\n",
       "      <td>2021</td>\n",
       "      <td>1.00</td>\n",
       "    </tr>\n",
       "    <tr>\n",
       "      <th>4</th>\n",
       "      <td>2022</td>\n",
       "      <td>3.25</td>\n",
       "    </tr>\n",
       "  </tbody>\n",
       "</table>\n",
       "</div>"
      ],
      "text/plain": [
       "   year  kr_standard_yield\n",
       "0  2018               1.75\n",
       "1  2019               1.25\n",
       "2  2020               0.50\n",
       "3  2021               1.00\n",
       "4  2022               3.25"
      ]
     },
     "execution_count": 77,
     "metadata": {},
     "output_type": "execute_result"
    }
   ],
   "source": [
    "kr_standard_yield_df"
   ]
  },
  {
   "cell_type": "code",
   "execution_count": 78,
   "metadata": {},
   "outputs": [
    {
     "data": {
      "text/html": [
       "<div>\n",
       "<style scoped>\n",
       "    .dataframe tbody tr th:only-of-type {\n",
       "        vertical-align: middle;\n",
       "    }\n",
       "\n",
       "    .dataframe tbody tr th {\n",
       "        vertical-align: top;\n",
       "    }\n",
       "\n",
       "    .dataframe thead th {\n",
       "        text-align: right;\n",
       "    }\n",
       "</style>\n",
       "<table border=\"1\" class=\"dataframe\">\n",
       "  <thead>\n",
       "    <tr style=\"text-align: right;\">\n",
       "      <th></th>\n",
       "      <th>year</th>\n",
       "      <th>kr_minus_us_rate</th>\n",
       "    </tr>\n",
       "  </thead>\n",
       "  <tbody>\n",
       "    <tr>\n",
       "      <th>0</th>\n",
       "      <td>2018</td>\n",
       "      <td>-0.2916</td>\n",
       "    </tr>\n",
       "    <tr>\n",
       "      <th>1</th>\n",
       "      <td>2019</td>\n",
       "      <td>-0.5625</td>\n",
       "    </tr>\n",
       "    <tr>\n",
       "      <th>2</th>\n",
       "      <td>2020</td>\n",
       "      <td>0.2917</td>\n",
       "    </tr>\n",
       "    <tr>\n",
       "      <th>3</th>\n",
       "      <td>2021</td>\n",
       "      <td>0.5208</td>\n",
       "    </tr>\n",
       "    <tr>\n",
       "      <th>4</th>\n",
       "      <td>2022</td>\n",
       "      <td>0.2292</td>\n",
       "    </tr>\n",
       "  </tbody>\n",
       "</table>\n",
       "</div>"
      ],
      "text/plain": [
       "   year  kr_minus_us_rate\n",
       "0  2018           -0.2916\n",
       "1  2019           -0.5625\n",
       "2  2020            0.2917\n",
       "3  2021            0.5208\n",
       "4  2022            0.2292"
      ]
     },
     "execution_count": 78,
     "metadata": {},
     "output_type": "execute_result"
    }
   ],
   "source": [
    "krus_diff_policyratio"
   ]
  },
  {
   "cell_type": "code",
   "execution_count": 80,
   "metadata": {},
   "outputs": [
    {
     "name": "stdout",
     "output_type": "stream",
     "text": [
      "<class 'pandas.core.frame.DataFrame'>\n",
      "RangeIndex: 5 entries, 1 to 5\n",
      "Data columns (total 2 columns):\n",
      " #   Column       Non-Null Count  Dtype\n",
      "---  ------       --------------  -----\n",
      " 0   year         5 non-null      int64\n",
      " 1   minimum_wag  5 non-null      int64\n",
      "dtypes: int64(2)\n",
      "memory usage: 212.0 bytes\n"
     ]
    }
   ],
   "source": [
    "minimum_wage_1423.info()"
   ]
  },
  {
   "cell_type": "code",
   "execution_count": 81,
   "metadata": {},
   "outputs": [
    {
     "name": "stderr",
     "output_type": "stream",
     "text": [
      "C:\\Users\\USER_20211027\\AppData\\Local\\Temp\\ipykernel_17472\\255931011.py:7: SettingWithCopyWarning: \n",
      "A value is trying to be set on a copy of a slice from a DataFrame.\n",
      "Try using .loc[row_indexer,col_indexer] = value instead\n",
      "\n",
      "See the caveats in the documentation: https://pandas.pydata.org/pandas-docs/stable/user_guide/indexing.html#returning-a-view-versus-a-copy\n",
      "  i['year'] = i['year'].astype(str)\n"
     ]
    }
   ],
   "source": [
    "list = [minimum_wage_1423,\n",
    "exchangerate_USDKRX_avg,\n",
    "PPI_year_df,\n",
    "krus_diff_policyratio]\n",
    "\n",
    "for i in list:\n",
    "    i['year'] = i['year'].astype(str)"
   ]
  },
  {
   "cell_type": "code",
   "execution_count": 83,
   "metadata": {},
   "outputs": [
    {
     "name": "stdout",
     "output_type": "stream",
     "text": [
      "   year  minimum_wag uskor_exchange_average PPI_year  kr_minus_us_rate  \\\n",
      "0  2022         9160                 1292.2   118.78            0.2292   \n",
      "1  2021         8720                1144.61    109.6            0.5208   \n",
      "2  2020         8590                1180.01   103.03            0.2917   \n",
      "3  2019         8350                1166.11    103.5           -0.5625   \n",
      "4  2018         7530                1100.58   103.48           -0.2916   \n",
      "\n",
      "   kr_standard_yield  \n",
      "0               3.25  \n",
      "1               1.00  \n",
      "2               0.50  \n",
      "3               1.25  \n",
      "4               1.75  \n"
     ]
    }
   ],
   "source": [
    "merged_df = pd.merge(minimum_wage_1423, exchangerate_USDKRX_avg, on='year')\n",
    "merged_df = pd.merge(merged_df, PPI_year_df, on='year')\n",
    "merged_df = pd.merge(merged_df, krus_diff_policyratio, on='year')\n",
    "merged_df = pd.merge(merged_df, kr_standard_yield_df, on='year')\n",
    "\n",
    "# 인덱스 재설정\n",
    "merged_df = merged_df.reset_index(drop=True)\n",
    "\n",
    "# 결과 확인\n",
    "print(merged_df)"
   ]
  },
  {
   "cell_type": "code",
   "execution_count": 84,
   "metadata": {},
   "outputs": [
    {
     "name": "stdout",
     "output_type": "stream",
     "text": [
      "<class 'pandas.core.frame.DataFrame'>\n",
      "RangeIndex: 5 entries, 0 to 4\n",
      "Data columns (total 6 columns):\n",
      " #   Column                  Non-Null Count  Dtype  \n",
      "---  ------                  --------------  -----  \n",
      " 0   year                    5 non-null      object \n",
      " 1   minimum_wag             5 non-null      int64  \n",
      " 2   uskor_exchange_average  5 non-null      object \n",
      " 3   PPI_year                5 non-null      object \n",
      " 4   kr_minus_us_rate        5 non-null      float64\n",
      " 5   kr_standard_yield       5 non-null      float64\n",
      "dtypes: float64(2), int64(1), object(3)\n",
      "memory usage: 368.0+ bytes\n"
     ]
    }
   ],
   "source": [
    "merged_df.info()"
   ]
  },
  {
   "cell_type": "code",
   "execution_count": 85,
   "metadata": {},
   "outputs": [],
   "source": [
    "merged_df['uskor_exchange_average'] = merged_df['uskor_exchange_average'].astype(float)\n",
    "merged_df['PPI_year'] = merged_df['PPI_year'].astype(float)"
   ]
  },
  {
   "cell_type": "code",
   "execution_count": 86,
   "metadata": {},
   "outputs": [],
   "source": [
    "merged_df['year'] = merged_df['year'].astype(str)"
   ]
  },
  {
   "cell_type": "code",
   "execution_count": 87,
   "metadata": {},
   "outputs": [
    {
     "data": {
      "text/html": [
       "<div>\n",
       "<style scoped>\n",
       "    .dataframe tbody tr th:only-of-type {\n",
       "        vertical-align: middle;\n",
       "    }\n",
       "\n",
       "    .dataframe tbody tr th {\n",
       "        vertical-align: top;\n",
       "    }\n",
       "\n",
       "    .dataframe thead th {\n",
       "        text-align: right;\n",
       "    }\n",
       "</style>\n",
       "<table border=\"1\" class=\"dataframe\">\n",
       "  <thead>\n",
       "    <tr style=\"text-align: right;\">\n",
       "      <th></th>\n",
       "      <th>year</th>\n",
       "      <th>minimum_wag</th>\n",
       "      <th>uskor_exchange_average</th>\n",
       "      <th>PPI_year</th>\n",
       "      <th>kr_minus_us_rate</th>\n",
       "      <th>kr_standard_yield</th>\n",
       "    </tr>\n",
       "  </thead>\n",
       "  <tbody>\n",
       "    <tr>\n",
       "      <th>0</th>\n",
       "      <td>2022</td>\n",
       "      <td>9160</td>\n",
       "      <td>1292.20</td>\n",
       "      <td>118.78</td>\n",
       "      <td>0.2292</td>\n",
       "      <td>3.25</td>\n",
       "    </tr>\n",
       "    <tr>\n",
       "      <th>1</th>\n",
       "      <td>2021</td>\n",
       "      <td>8720</td>\n",
       "      <td>1144.61</td>\n",
       "      <td>109.60</td>\n",
       "      <td>0.5208</td>\n",
       "      <td>1.00</td>\n",
       "    </tr>\n",
       "    <tr>\n",
       "      <th>2</th>\n",
       "      <td>2020</td>\n",
       "      <td>8590</td>\n",
       "      <td>1180.01</td>\n",
       "      <td>103.03</td>\n",
       "      <td>0.2917</td>\n",
       "      <td>0.50</td>\n",
       "    </tr>\n",
       "    <tr>\n",
       "      <th>3</th>\n",
       "      <td>2019</td>\n",
       "      <td>8350</td>\n",
       "      <td>1166.11</td>\n",
       "      <td>103.50</td>\n",
       "      <td>-0.5625</td>\n",
       "      <td>1.25</td>\n",
       "    </tr>\n",
       "    <tr>\n",
       "      <th>4</th>\n",
       "      <td>2018</td>\n",
       "      <td>7530</td>\n",
       "      <td>1100.58</td>\n",
       "      <td>103.48</td>\n",
       "      <td>-0.2916</td>\n",
       "      <td>1.75</td>\n",
       "    </tr>\n",
       "  </tbody>\n",
       "</table>\n",
       "</div>"
      ],
      "text/plain": [
       "   year  minimum_wag  uskor_exchange_average  PPI_year  kr_minus_us_rate  \\\n",
       "0  2022         9160                 1292.20    118.78            0.2292   \n",
       "1  2021         8720                 1144.61    109.60            0.5208   \n",
       "2  2020         8590                 1180.01    103.03            0.2917   \n",
       "3  2019         8350                 1166.11    103.50           -0.5625   \n",
       "4  2018         7530                 1100.58    103.48           -0.2916   \n",
       "\n",
       "   kr_standard_yield  \n",
       "0               3.25  \n",
       "1               1.00  \n",
       "2               0.50  \n",
       "3               1.25  \n",
       "4               1.75  "
      ]
     },
     "execution_count": 87,
     "metadata": {},
     "output_type": "execute_result"
    }
   ],
   "source": [
    "merged_df"
   ]
  },
  {
   "cell_type": "code",
   "execution_count": 88,
   "metadata": {},
   "outputs": [],
   "source": [
    "merged_df2 = merged_df.rename(columns={'kr_minus_us_rate': 'kor_usa_ir_diff'})\n",
    "merged_df2['kor_usa_ir_diff'] = merged_df2['kor_usa_ir_diff'].round(decimals=2)"
   ]
  },
  {
   "cell_type": "markdown",
   "metadata": {},
   "source": [
    "## Data Warehouse - upload"
   ]
  },
  {
   "cell_type": "code",
   "execution_count": 86,
   "metadata": {},
   "outputs": [],
   "source": [
    "# def pythondf_to_DB(dataframe_name, \"database_name\", \"desired_table_name\")\n",
    "\n",
    "# 연평균 원/달러 환율\n",
    "pythondf_to_DB(merged_df2, \"Data_Warehouse\", \"economic_indicators\")"
   ]
  }
 ],
 "metadata": {
  "kernelspec": {
   "display_name": "venv",
   "language": "python",
   "name": "python3"
  },
  "language_info": {
   "codemirror_mode": {
    "name": "ipython",
    "version": 3
   },
   "file_extension": ".py",
   "mimetype": "text/x-python",
   "name": "python",
   "nbconvert_exporter": "python",
   "pygments_lexer": "ipython3",
   "version": "3.9.12"
  },
  "orig_nbformat": 4
 },
 "nbformat": 4,
 "nbformat_minor": 2
}
