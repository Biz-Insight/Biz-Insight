{
 "cells": [
  {
   "cell_type": "markdown",
   "metadata": {},
   "source": [
    "# 크롤러"
   ]
  },
  {
   "cell_type": "code",
   "execution_count": 75,
   "metadata": {},
   "outputs": [],
   "source": [
    "import pandas as pd\n",
    "import requests\n",
    "\n",
    "def get_bok_df(info, classification,start_data, end_data, specific_info):\n",
    "    apikey = \"HF0ML1Y9A0RN7R7K4JE2\"\n",
    "    url = 'https://ecos.bok.or.kr/api/StatisticSearch/' + apikey + '/json/kr/1/100/817Y002/D/20180101/20221231/010200000'\n",
    "    response = requests.get(url)\n",
    "\n",
    "    result = response.json()\n",
    "    list_total_count=(int)(result['StatisticSearch']['list_total_count'])\n",
    "    list_count=(int)(list_total_count/100) + 1\n",
    "    rows=[]\n",
    "    for i in range(0,list_count):\n",
    "        start = str(i * 100 + 1)\n",
    "        end = str((i + 1) * 100)\n",
    "        url = 'https://ecos.bok.or.kr/api/StatisticSearch/' + apikey + '/json/kr/' \\\n",
    "                + start + '/' + end + f\"/{info}/{classification}/{start_data}/{end_data}/{specific_info}\" \n",
    "        response = requests.get(url)\n",
    "        result = response.json()\n",
    "        rows = rows + result['StatisticSearch']['row']\n",
    "    df=pd.DataFrame(rows)\n",
    "    return df\n"
   ]
  },
  {
   "cell_type": "markdown",
   "metadata": {},
   "source": [
    "## 파라미터 정보"
   ]
  },
  {
   "cell_type": "code",
   "execution_count": 76,
   "metadata": {},
   "outputs": [],
   "source": [
    "# 원화의 대미 달러 종가기준 연평균\n",
    "param_uskor_exchange = ['731Y006', 'A', 2018, 2022, '0000003']\n",
    "\n",
    "# M2 경제주체별 연평균, 단위 십억원\n",
    "param_m2 = ['101Y015', 'A', 2018, 2022, 'BBHA00']\n",
    "\n",
    "# 생산자물가지수 연평균, 2015년 PPI를 100으로 함.\n",
    "param_PPI = ['404Y014', 'A', 2018, 2022, '*AA']\n",
    "\n",
    "\n",
    "# 한국 정책금리 월단위\n",
    "param_kr_policyratio = ['902Y006', 'M', 201801, 202212, 'KR']\n",
    "# 미국 정책금리 월단위\n",
    "param_us_policyratio = ['902Y006', 'M', 201801, 202212, 'US']\n",
    "\n",
    "# # 한국은행 기준금리 일단위\n",
    "# param_kor_standard_yield = ['722Y001', 'D', 20180101, 20221231, '0101000']\n",
    "# # 국고채 3년물 금리 일단위 -> 집계필요\n",
    "# param_kor_govrn_3ybond = ['817Y002', 'D', 20180101, 20221231, '010200000'] "
   ]
  },
  {
   "cell_type": "code",
   "execution_count": 77,
   "metadata": {},
   "outputs": [],
   "source": [
    "# 환율, 통화량, 생산자 물가지수 연평균\n",
    "uskor_exchange_year = get_bok_df(*param_uskor_exchange)\n",
    "m2_year = get_bok_df(*param_m2)\n",
    "PPI_year = get_bok_df(*param_PPI)\n",
    "\n",
    "# 월단위 정책금리\n",
    "kr_policyratio_month  = get_bok_df(*param_kr_policyratio)\n",
    "us_policyratio_month = get_bok_df(*param_us_policyratio)"
   ]
  },
  {
   "cell_type": "markdown",
   "metadata": {},
   "source": [
    "### 최저임금 데이터 로드 - csv file"
   ]
  },
  {
   "cell_type": "code",
   "execution_count": 78,
   "metadata": {},
   "outputs": [],
   "source": [
    "minimum_wage_1423 = pd.read_csv(\"C:/Users/USER_20211027/Desktop/final_project/github/Final-Project/data/고용노동부_연도별 최저임금_2014_2023.csv\", encoding=\"utf-8\")"
   ]
  },
  {
   "cell_type": "markdown",
   "metadata": {},
   "source": [
    "## 데이터 프레임으로 저장"
   ]
  },
  {
   "cell_type": "markdown",
   "metadata": {},
   "source": [
    "# DB 전송"
   ]
  },
  {
   "cell_type": "code",
   "execution_count": 79,
   "metadata": {},
   "outputs": [],
   "source": [
    "def pythondf_to_DB(dataframe_name, database_name, desired_table_name):\n",
    "\timport pymysql\n",
    "\tfrom sqlalchemy import create_engine\n",
    "\tfrom sqlalchemy.orm import sessionmaker\n",
    "\tusername = 'multi'\n",
    "\tpassword = 'Campus123!'\n",
    "\thostname =  'ec2-15-152-211-160.ap-northeast-3.compute.amazonaws.com'\n",
    "\tdatabase_name = database_name\n",
    "\tdesired_table_name = desired_table_name\n",
    "\tcnx = pymysql.connect(user=username, password=password, host=hostname)\n",
    "\tcursor = cnx.cursor()\n",
    "\tengine = create_engine(\"mysql+pymysql://{user}:{pw}@{host}/{db}\"\n",
    "\t\t\t\t\t\t.format(user=username,\n",
    "\t\t\t\t\t\t\t\tpw=password,\n",
    "\t\t\t\t\t\t\t\tdb=database_name,\n",
    "\t\t\t\t\t\t\t\thost=hostname))\n",
    "\tSession = sessionmaker(bind=engine)\n",
    "\tsession = Session()\n",
    "\ttry:\n",
    "\t\t# Change df name\n",
    "\t\tdataframe_name.to_sql(desired_table_name, con=engine, if_exists='replace', index=False, chunksize = 1000)\n",
    "\t\tsession.commit()\n",
    "\texcept:\n",
    "\t\tsession.rollback()\n",
    "\t\traise\n",
    "\tfinally:\n",
    "\t\tsession.close()\n",
    "\tcursor.close()"
   ]
  },
  {
   "cell_type": "markdown",
   "metadata": {},
   "source": [
    "## Data Lake upload"
   ]
  },
  {
   "cell_type": "code",
   "execution_count": 80,
   "metadata": {},
   "outputs": [],
   "source": [
    "# def pythondf_to_DB(dataframe_name, \"database_name\", \"desired_table_name\")\n",
    "\n",
    "# 연평균 원/달러 환율\n",
    "pythondf_to_DB(uskor_exchange_year, \"Data_Lake\", \"uskor_exchange_year\")\n",
    "\n",
    "# 연평균 통화량\n",
    "pythondf_to_DB(m2_year, \"Data_Lake\", \"m2_year\")\n",
    "\n",
    "# 연평균 생산자 물가\n",
    "pythondf_to_DB(PPI_year, \"Data_Lake\", \"PPI_year\")\n",
    "\n",
    "# 한국, 미국 월단위 정책금리\n",
    "pythondf_to_DB(kr_policyratio_month, \"Data_Lake\", \"kr_policyratio_month\")\n",
    "pythondf_to_DB(us_policyratio_month, \"Data_Lake\", \"us_policyratio_month\")\n",
    "\n",
    "# 연별 최저임금\n",
    "pythondf_to_DB(minimum_wage_1423, \"Data_Lake\", \"minimum_wage_1423\")"
   ]
  },
  {
   "cell_type": "markdown",
   "metadata": {},
   "source": [
    "# # Data Warehouse - 테이블 변경"
   ]
  },
  {
   "cell_type": "markdown",
   "metadata": {},
   "source": [
    "정책금리차 테이블 변경"
   ]
  },
  {
   "cell_type": "code",
   "execution_count": 49,
   "metadata": {},
   "outputs": [],
   "source": [
    "kr_policyratio_month['TIME'] = pd.to_datetime(kr_policyratio_month['TIME'], format='%Y%m')\n",
    "kr_policyratio_month['YEAR'] = kr_policyratio_month['TIME'].dt.year\n",
    "kr_policyratio_month['DATA_VALUE'] = kr_policyratio_month['DATA_VALUE'].astype(float)\n",
    "kr_policyratio_year = kr_policyratio_month.groupby('YEAR')['DATA_VALUE'].mean().round(4)\n",
    "\n",
    "us_policyratio_month['TIME'] = pd.to_datetime(us_policyratio_month['TIME'], format='%Y%m')\n",
    "us_policyratio_month['YEAR'] = us_policyratio_month['TIME'].dt.year\n",
    "us_policyratio_month['DATA_VALUE'] = us_policyratio_month['DATA_VALUE'].astype(float)\n",
    "us_policyratio_year = us_policyratio_month.groupby('YEAR')['DATA_VALUE'].mean().round(4)"
   ]
  },
  {
   "cell_type": "code",
   "execution_count": 50,
   "metadata": {},
   "outputs": [],
   "source": [
    "# 한국정책금리 - 미국정책금리 -> 양수값이 나오면 한국정책금리 > 미국정책금리\n",
    "kr_minus_us_policyratio = kr_policyratio_year - us_policyratio_year\n",
    "krus_diff_policyratio = pd.DataFrame({'year': kr_minus_us_policyratio.index, 'kr_minus_us_rate': kr_minus_us_policyratio.values})\n",
    "\n",
    "# # 결과 출력\n",
    "# print(df_kr_minus_us_policyratio)"
   ]
  },
  {
   "cell_type": "markdown",
   "metadata": {},
   "source": [
    "달러원 환율 테이블 변경"
   ]
  },
  {
   "cell_type": "code",
   "execution_count": 21,
   "metadata": {},
   "outputs": [],
   "source": [
    "uskor_exchange_year_average = uskor_exchange_year[uskor_exchange_year.ITEM_NAME2==\"평균자료\"]"
   ]
  },
  {
   "cell_type": "code",
   "execution_count": 22,
   "metadata": {},
   "outputs": [],
   "source": [
    "exchangerate_USDKRX_avg = uskor_exchange_year_average[['TIME', 'DATA_VALUE']]\n",
    "exchangerate_USDKRX_avg = exchangerate_USDKRX_avg.rename(columns={'DATA_VALUE': 'uskor_exchange_average', 'TIME': 'year'})"
   ]
  },
  {
   "cell_type": "markdown",
   "metadata": {},
   "source": [
    "M2 통화량"
   ]
  },
  {
   "cell_type": "code",
   "execution_count": 25,
   "metadata": {},
   "outputs": [],
   "source": [
    "m2_year_df = m2_year[['TIME', 'DATA_VALUE']]\n",
    "m2_year_df = m2_year_df.rename(columns={'DATA_VALUE': 'm2_year', 'TIME': 'year'})\n"
   ]
  },
  {
   "cell_type": "markdown",
   "metadata": {},
   "source": [
    "생산자 물가지수"
   ]
  },
  {
   "cell_type": "code",
   "execution_count": 31,
   "metadata": {},
   "outputs": [],
   "source": [
    "PPI_year_df = PPI_year[['TIME', 'DATA_VALUE']]\n",
    "PPI_year_df = PPI_year_df.rename(columns={'DATA_VALUE': 'PPI_year', 'TIME': 'year'})"
   ]
  },
  {
   "cell_type": "markdown",
   "metadata": {},
   "source": [
    "최저임금 테이블 변경"
   ]
  },
  {
   "cell_type": "code",
   "execution_count": 35,
   "metadata": {},
   "outputs": [
    {
     "data": {
      "text/html": [
       "<div>\n",
       "<style scoped>\n",
       "    .dataframe tbody tr th:only-of-type {\n",
       "        vertical-align: middle;\n",
       "    }\n",
       "\n",
       "    .dataframe tbody tr th {\n",
       "        vertical-align: top;\n",
       "    }\n",
       "\n",
       "    .dataframe thead th {\n",
       "        text-align: right;\n",
       "    }\n",
       "</style>\n",
       "<table border=\"1\" class=\"dataframe\">\n",
       "  <thead>\n",
       "    <tr style=\"text-align: right;\">\n",
       "      <th></th>\n",
       "      <th>����</th>\n",
       "      <th>����.1</th>\n",
       "      <th>�ð���</th>\n",
       "    </tr>\n",
       "  </thead>\n",
       "  <tbody>\n",
       "    <tr>\n",
       "      <th>0</th>\n",
       "      <td>1</td>\n",
       "      <td>2023</td>\n",
       "      <td>9620</td>\n",
       "    </tr>\n",
       "    <tr>\n",
       "      <th>1</th>\n",
       "      <td>2</td>\n",
       "      <td>2022</td>\n",
       "      <td>9160</td>\n",
       "    </tr>\n",
       "    <tr>\n",
       "      <th>2</th>\n",
       "      <td>3</td>\n",
       "      <td>2021</td>\n",
       "      <td>8720</td>\n",
       "    </tr>\n",
       "    <tr>\n",
       "      <th>3</th>\n",
       "      <td>4</td>\n",
       "      <td>2020</td>\n",
       "      <td>8590</td>\n",
       "    </tr>\n",
       "    <tr>\n",
       "      <th>4</th>\n",
       "      <td>5</td>\n",
       "      <td>2019</td>\n",
       "      <td>8350</td>\n",
       "    </tr>\n",
       "    <tr>\n",
       "      <th>5</th>\n",
       "      <td>6</td>\n",
       "      <td>2018</td>\n",
       "      <td>7530</td>\n",
       "    </tr>\n",
       "    <tr>\n",
       "      <th>6</th>\n",
       "      <td>7</td>\n",
       "      <td>2017</td>\n",
       "      <td>6470</td>\n",
       "    </tr>\n",
       "    <tr>\n",
       "      <th>7</th>\n",
       "      <td>8</td>\n",
       "      <td>2016</td>\n",
       "      <td>6030</td>\n",
       "    </tr>\n",
       "    <tr>\n",
       "      <th>8</th>\n",
       "      <td>9</td>\n",
       "      <td>2015</td>\n",
       "      <td>5580</td>\n",
       "    </tr>\n",
       "    <tr>\n",
       "      <th>9</th>\n",
       "      <td>10</td>\n",
       "      <td>2014</td>\n",
       "      <td>5210</td>\n",
       "    </tr>\n",
       "  </tbody>\n",
       "</table>\n",
       "</div>"
      ],
      "text/plain": [
       "   ����  ����.1  �ð���\n",
       "0     1    2023   9620\n",
       "1     2    2022   9160\n",
       "2     3    2021   8720\n",
       "3     4    2020   8590\n",
       "4     5    2019   8350\n",
       "5     6    2018   7530\n",
       "6     7    2017   6470\n",
       "7     8    2016   6030\n",
       "8     9    2015   5580\n",
       "9    10    2014   5210"
      ]
     },
     "execution_count": 35,
     "metadata": {},
     "output_type": "execute_result"
    }
   ],
   "source": [
    "minimum_wage_1423"
   ]
  },
  {
   "cell_type": "code",
   "execution_count": 36,
   "metadata": {},
   "outputs": [],
   "source": [
    "minimum_wage_1423_df = minimum_wage_1423[['����.1', '�ð���']]\n",
    "minimum_wage_1423_df = minimum_wage_1423_df.rename(columns={'����.1': 'year', '�ð���': 'minimum_wag'})"
   ]
  },
  {
   "cell_type": "markdown",
   "metadata": {},
   "source": [
    "### 변경완료된 df - 통화량, 환율, 최저임금, 정책금리차"
   ]
  },
  {
   "cell_type": "code",
   "execution_count": 55,
   "metadata": {},
   "outputs": [],
   "source": [
    "minimum_wage_1423 = minimum_wage_1423_df[1:6]"
   ]
  },
  {
   "cell_type": "code",
   "execution_count": 64,
   "metadata": {},
   "outputs": [
    {
     "name": "stderr",
     "output_type": "stream",
     "text": [
      "C:\\Users\\USER_20211027\\AppData\\Local\\Temp\\ipykernel_2184\\1340938773.py:7: SettingWithCopyWarning: \n",
      "A value is trying to be set on a copy of a slice from a DataFrame.\n",
      "Try using .loc[row_indexer,col_indexer] = value instead\n",
      "\n",
      "See the caveats in the documentation: https://pandas.pydata.org/pandas-docs/stable/user_guide/indexing.html#returning-a-view-versus-a-copy\n",
      "  i['year'] = i['year'].astype(int)\n"
     ]
    }
   ],
   "source": [
    "list = [minimum_wage_1423,\n",
    "exchangerate_USDKRX_avg,\n",
    "PPI_year_df,\n",
    "krus_diff_policyratio]\n",
    "\n",
    "for i in list:\n",
    "    i['year'] = i['year'].astype(int)"
   ]
  },
  {
   "cell_type": "code",
   "execution_count": 65,
   "metadata": {},
   "outputs": [
    {
     "name": "stdout",
     "output_type": "stream",
     "text": [
      "   year  minimum_wag uskor_exchange_average PPI_year  kr_minus_us_rate\n",
      "0  2022         9160                 1292.2   118.78            0.2292\n",
      "1  2021         8720                1144.61    109.6            0.5208\n",
      "2  2020         8590                1180.01   103.03            0.2917\n",
      "3  2019         8350                1166.11    103.5           -0.5625\n",
      "4  2018         7530                1100.58   103.48           -0.2916\n"
     ]
    }
   ],
   "source": [
    "merged_df = pd.merge(minimum_wage_1423, exchangerate_USDKRX_avg, on='year')\n",
    "merged_df = pd.merge(merged_df, PPI_year_df, on='year')\n",
    "merged_df = pd.merge(merged_df, krus_diff_policyratio, on='year')\n",
    "\n",
    "# 인덱스 재설정\n",
    "merged_df = merged_df.reset_index(drop=True)\n",
    "\n",
    "# 결과 확인\n",
    "print(merged_df)"
   ]
  },
  {
   "cell_type": "code",
   "execution_count": 81,
   "metadata": {},
   "outputs": [
    {
     "name": "stdout",
     "output_type": "stream",
     "text": [
      "<class 'pandas.core.frame.DataFrame'>\n",
      "RangeIndex: 5 entries, 0 to 4\n",
      "Data columns (total 5 columns):\n",
      " #   Column                  Non-Null Count  Dtype  \n",
      "---  ------                  --------------  -----  \n",
      " 0   year                    5 non-null      object \n",
      " 1   minimum_wag             5 non-null      int64  \n",
      " 2   uskor_exchange_average  5 non-null      float64\n",
      " 3   PPI_year                5 non-null      float64\n",
      " 4   kr_minus_us_rate        5 non-null      float64\n",
      "dtypes: float64(3), int64(1), object(1)\n",
      "memory usage: 328.0+ bytes\n"
     ]
    }
   ],
   "source": [
    "merged_df.info()"
   ]
  },
  {
   "cell_type": "code",
   "execution_count": 67,
   "metadata": {},
   "outputs": [],
   "source": [
    "merged_df['uskor_exchange_average'] = merged_df['uskor_exchange_average'].astype(float)\n",
    "merged_df['PPI_year'] = merged_df['PPI_year'].astype(float)"
   ]
  },
  {
   "cell_type": "code",
   "execution_count": 71,
   "metadata": {},
   "outputs": [],
   "source": [
    "merged_df['year'] = merged_df['year'].astype(str)"
   ]
  },
  {
   "cell_type": "markdown",
   "metadata": {},
   "source": [
    "## Data Warehouse - upload"
   ]
  },
  {
   "cell_type": "code",
   "execution_count": 86,
   "metadata": {},
   "outputs": [],
   "source": [
    "# def pythondf_to_DB(dataframe_name, \"database_name\", \"desired_table_name\")\n",
    "\n",
    "# 연평균 원/달러 환율\n",
    "pythondf_to_DB(merged_df1, \"Data_Lake\", \"economic_indicators\")"
   ]
  },
  {
   "cell_type": "code",
   "execution_count": 82,
   "metadata": {},
   "outputs": [
    {
     "data": {
      "text/html": [
       "<div>\n",
       "<style scoped>\n",
       "    .dataframe tbody tr th:only-of-type {\n",
       "        vertical-align: middle;\n",
       "    }\n",
       "\n",
       "    .dataframe tbody tr th {\n",
       "        vertical-align: top;\n",
       "    }\n",
       "\n",
       "    .dataframe thead th {\n",
       "        text-align: right;\n",
       "    }\n",
       "</style>\n",
       "<table border=\"1\" class=\"dataframe\">\n",
       "  <thead>\n",
       "    <tr style=\"text-align: right;\">\n",
       "      <th></th>\n",
       "      <th>year</th>\n",
       "      <th>minimum_wag</th>\n",
       "      <th>uskor_exchange_average</th>\n",
       "      <th>PPI_year</th>\n",
       "      <th>kr_minus_us_rate</th>\n",
       "    </tr>\n",
       "  </thead>\n",
       "  <tbody>\n",
       "    <tr>\n",
       "      <th>0</th>\n",
       "      <td>2022</td>\n",
       "      <td>9160</td>\n",
       "      <td>1292.20</td>\n",
       "      <td>118.78</td>\n",
       "      <td>0.2292</td>\n",
       "    </tr>\n",
       "    <tr>\n",
       "      <th>1</th>\n",
       "      <td>2021</td>\n",
       "      <td>8720</td>\n",
       "      <td>1144.61</td>\n",
       "      <td>109.60</td>\n",
       "      <td>0.5208</td>\n",
       "    </tr>\n",
       "    <tr>\n",
       "      <th>2</th>\n",
       "      <td>2020</td>\n",
       "      <td>8590</td>\n",
       "      <td>1180.01</td>\n",
       "      <td>103.03</td>\n",
       "      <td>0.2917</td>\n",
       "    </tr>\n",
       "    <tr>\n",
       "      <th>3</th>\n",
       "      <td>2019</td>\n",
       "      <td>8350</td>\n",
       "      <td>1166.11</td>\n",
       "      <td>103.50</td>\n",
       "      <td>-0.5625</td>\n",
       "    </tr>\n",
       "    <tr>\n",
       "      <th>4</th>\n",
       "      <td>2018</td>\n",
       "      <td>7530</td>\n",
       "      <td>1100.58</td>\n",
       "      <td>103.48</td>\n",
       "      <td>-0.2916</td>\n",
       "    </tr>\n",
       "  </tbody>\n",
       "</table>\n",
       "</div>"
      ],
      "text/plain": [
       "   year  minimum_wag  uskor_exchange_average  PPI_year  kr_minus_us_rate\n",
       "0  2022         9160                 1292.20    118.78            0.2292\n",
       "1  2021         8720                 1144.61    109.60            0.5208\n",
       "2  2020         8590                 1180.01    103.03            0.2917\n",
       "3  2019         8350                 1166.11    103.50           -0.5625\n",
       "4  2018         7530                 1100.58    103.48           -0.2916"
      ]
     },
     "execution_count": 82,
     "metadata": {},
     "output_type": "execute_result"
    }
   ],
   "source": [
    "merged_df"
   ]
  },
  {
   "cell_type": "code",
   "execution_count": 84,
   "metadata": {},
   "outputs": [],
   "source": [
    "merged_df1 = merged_df.rename(columns={'kr_minus_us_rate': 'kor_usa_ir_diff'})\n",
    "merged_df1['kor_usa_ir_diff'] = merged_df1['kor_usa_ir_diff'].round(decimals=4)"
   ]
  },
  {
   "cell_type": "code",
   "execution_count": 85,
   "metadata": {},
   "outputs": [
    {
     "data": {
      "text/html": [
       "<div>\n",
       "<style scoped>\n",
       "    .dataframe tbody tr th:only-of-type {\n",
       "        vertical-align: middle;\n",
       "    }\n",
       "\n",
       "    .dataframe tbody tr th {\n",
       "        vertical-align: top;\n",
       "    }\n",
       "\n",
       "    .dataframe thead th {\n",
       "        text-align: right;\n",
       "    }\n",
       "</style>\n",
       "<table border=\"1\" class=\"dataframe\">\n",
       "  <thead>\n",
       "    <tr style=\"text-align: right;\">\n",
       "      <th></th>\n",
       "      <th>year</th>\n",
       "      <th>minimum_wag</th>\n",
       "      <th>uskor_exchange_average</th>\n",
       "      <th>PPI_year</th>\n",
       "      <th>kor_usa_ir_diff</th>\n",
       "    </tr>\n",
       "  </thead>\n",
       "  <tbody>\n",
       "    <tr>\n",
       "      <th>0</th>\n",
       "      <td>2022</td>\n",
       "      <td>9160</td>\n",
       "      <td>1292.20</td>\n",
       "      <td>118.78</td>\n",
       "      <td>0.2292</td>\n",
       "    </tr>\n",
       "    <tr>\n",
       "      <th>1</th>\n",
       "      <td>2021</td>\n",
       "      <td>8720</td>\n",
       "      <td>1144.61</td>\n",
       "      <td>109.60</td>\n",
       "      <td>0.5208</td>\n",
       "    </tr>\n",
       "    <tr>\n",
       "      <th>2</th>\n",
       "      <td>2020</td>\n",
       "      <td>8590</td>\n",
       "      <td>1180.01</td>\n",
       "      <td>103.03</td>\n",
       "      <td>0.2917</td>\n",
       "    </tr>\n",
       "    <tr>\n",
       "      <th>3</th>\n",
       "      <td>2019</td>\n",
       "      <td>8350</td>\n",
       "      <td>1166.11</td>\n",
       "      <td>103.50</td>\n",
       "      <td>-0.5625</td>\n",
       "    </tr>\n",
       "    <tr>\n",
       "      <th>4</th>\n",
       "      <td>2018</td>\n",
       "      <td>7530</td>\n",
       "      <td>1100.58</td>\n",
       "      <td>103.48</td>\n",
       "      <td>-0.2916</td>\n",
       "    </tr>\n",
       "  </tbody>\n",
       "</table>\n",
       "</div>"
      ],
      "text/plain": [
       "   year  minimum_wag  uskor_exchange_average  PPI_year  kor_usa_ir_diff\n",
       "0  2022         9160                 1292.20    118.78           0.2292\n",
       "1  2021         8720                 1144.61    109.60           0.5208\n",
       "2  2020         8590                 1180.01    103.03           0.2917\n",
       "3  2019         8350                 1166.11    103.50          -0.5625\n",
       "4  2018         7530                 1100.58    103.48          -0.2916"
      ]
     },
     "execution_count": 85,
     "metadata": {},
     "output_type": "execute_result"
    }
   ],
   "source": [
    "merged_df1"
   ]
  }
 ],
 "metadata": {
  "kernelspec": {
   "display_name": "venv",
   "language": "python",
   "name": "python3"
  },
  "language_info": {
   "codemirror_mode": {
    "name": "ipython",
    "version": 3
   },
   "file_extension": ".py",
   "mimetype": "text/x-python",
   "name": "python",
   "nbconvert_exporter": "python",
   "pygments_lexer": "ipython3",
   "version": "3.9.12"
  },
  "orig_nbformat": 4
 },
 "nbformat": 4,
 "nbformat_minor": 2
}
