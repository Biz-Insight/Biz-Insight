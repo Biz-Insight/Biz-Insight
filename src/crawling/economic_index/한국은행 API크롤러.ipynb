{
 "cells": [
  {
   "cell_type": "code",
   "execution_count": 5,
   "metadata": {},
   "outputs": [],
   "source": [
    "import pandas as pd\n",
    "import requests\n",
    "\n",
    "def get_bok_df(info, classification,start_data, end_data, specific_info):\n",
    "    apikey = \"HF0ML1Y9A0RN7R7K4JE2\"\n",
    "    url = 'https://ecos.bok.or.kr/api/StatisticSearch/' + apikey + '/json/kr/1/100/817Y002/D/20180101/20221231/010200000'\n",
    "    response = requests.get(url)\n",
    "\n",
    "    result = response.json()\n",
    "    list_total_count=(int)(result['StatisticSearch']['list_total_count'])\n",
    "    list_count=(int)(list_total_count/100) + 1\n",
    "    rows=[]\n",
    "    for i in range(0,list_count):\n",
    "        start = str(i * 100 + 1)\n",
    "        end = str((i + 1) * 100)\n",
    "        url = 'https://ecos.bok.or.kr/api/StatisticSearch/' + apikey + '/json/kr/' \\\n",
    "                + start + '/' + end + f\"/{info}/{classification}/{start_data}/{end_data}/{specific_info}\" \n",
    "        response = requests.get(url)\n",
    "        result = response.json()\n",
    "        rows = rows + result['StatisticSearch']['row']\n",
    "    df=pd.DataFrame(rows)\n",
    "    return df\n"
   ]
  },
  {
   "attachments": {},
   "cell_type": "markdown",
   "metadata": {},
   "source": [
    "정보 가져오기"
   ]
  },
  {
   "cell_type": "code",
   "execution_count": 71,
   "metadata": {},
   "outputs": [],
   "source": [
    "# 국고채 3년물 금리 일단위 -> 집계필요\n",
    "param_kor_govrn_3ybond = ['817Y002', 'D', 20180101, 20221231, '010200000'] \n",
    "\n",
    "# 원화의 대미 달러 종가기준 연평균\n",
    "param_uskor_exchange = ['731Y006', 'A', 2018, 2022, '0000003']\n",
    "\n",
    "# M2 경제주체별 연평균, 단위 십억원\n",
    "param_m2 = ['101Y015', 'A', 2018, 2022, 'BBHA00']\n",
    "\n",
    "# 생산자물가지수 연평균, 2015년 PPI를 100으로 함.\n",
    "param_PPI = ['404Y014', 'A', 2018, 2022, '*AA']\n",
    "\n",
    "# 한국 정책금리 월단위\n",
    "param_kr_policyratio = ['902Y006', 'M', 201801, 202212, 'KR']\n",
    "# 미국 정책금리 월단위\n",
    "param_us_policyratio = ['902Y006', 'M', 201801, 202212, 'US']\n",
    "# # 한국은행 기준금리 일단위\n",
    "# param_kor_standard_yield = ['722Y001', 'D', 20180101, 20221231, '0101000']\n"
   ]
  },
  {
   "attachments": {},
   "cell_type": "markdown",
   "metadata": {},
   "source": []
  }
 ],
 "metadata": {
  "kernelspec": {
   "display_name": "venv",
   "language": "python",
   "name": "python3"
  },
  "language_info": {
   "codemirror_mode": {
    "name": "ipython",
    "version": 3
   },
   "file_extension": ".py",
   "mimetype": "text/x-python",
   "name": "python",
   "nbconvert_exporter": "python",
   "pygments_lexer": "ipython3",
   "version": "3.9.12"
  },
  "orig_nbformat": 4
 },
 "nbformat": 4,
 "nbformat_minor": 2
}
