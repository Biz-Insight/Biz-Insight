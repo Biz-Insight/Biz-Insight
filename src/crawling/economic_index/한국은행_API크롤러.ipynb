{
 "cells": [
  {
   "cell_type": "markdown",
   "metadata": {},
   "source": [
    "# 크롤러"
   ]
  },
  {
   "cell_type": "code",
   "execution_count": 1,
   "metadata": {},
   "outputs": [],
   "source": [
    "import pandas as pd\n",
    "import requests\n",
    "\n",
    "def get_bok_df(info, classification,start_data, end_data, specific_info):\n",
    "    apikey = \"HF0ML1Y9A0RN7R7K4JE2\"\n",
    "    url = 'https://ecos.bok.or.kr/api/StatisticSearch/' + apikey + '/json/kr/1/100/817Y002/D/20180101/20221231/010200000'\n",
    "    response = requests.get(url)\n",
    "\n",
    "    result = response.json()\n",
    "    list_total_count=(int)(result['StatisticSearch']['list_total_count'])\n",
    "    list_count=(int)(list_total_count/100) + 1\n",
    "    rows=[]\n",
    "    for i in range(0,list_count):\n",
    "        start = str(i * 100 + 1)\n",
    "        end = str((i + 1) * 100)\n",
    "        url = 'https://ecos.bok.or.kr/api/StatisticSearch/' + apikey + '/json/kr/' \\\n",
    "                + start + '/' + end + f\"/{info}/{classification}/{start_data}/{end_data}/{specific_info}\" \n",
    "        response = requests.get(url)\n",
    "        result = response.json()\n",
    "        rows = rows + result['StatisticSearch']['row']\n",
    "    df=pd.DataFrame(rows)\n",
    "    return df\n"
   ]
  },
  {
   "cell_type": "markdown",
   "metadata": {},
   "source": [
    "## 파라미터 정보"
   ]
  },
  {
   "cell_type": "code",
   "execution_count": 11,
   "metadata": {},
   "outputs": [],
   "source": [
    "# 원화의 대미 달러 종가기준 연평균\n",
    "param_uskor_exchange = ['731Y006', 'A', 2018, 2022, '0000003']\n",
    "\n",
    "# M2 경제주체별 연평균, 단위 십억원\n",
    "param_m2 = ['101Y015', 'A', 2018, 2022, 'BBHA00']\n",
    "\n",
    "# 생산자물가지수 연평균, 2015년 PPI를 100으로 함.\n",
    "param_PPI = ['404Y014', 'A', 2018, 2022, '*AA']\n",
    "\n",
    "\n",
    "# 한국 정책금리 월단위\n",
    "param_kr_policyratio = ['902Y006', 'M', 201801, 202212, 'KR']\n",
    "# 미국 정책금리 월단위\n",
    "param_us_policyratio = ['902Y006', 'M', 201801, 202212, 'US']\n",
    "\n",
    "# # 한국은행 기준금리 일단위\n",
    "# param_kor_standard_yield = ['722Y001', 'D', 20180101, 20221231, '0101000']\n",
    "# # 국고채 3년물 금리 일단위 -> 집계필요\n",
    "# param_kor_govrn_3ybond = ['817Y002', 'D', 20180101, 20221231, '010200000'] "
   ]
  },
  {
   "cell_type": "code",
   "execution_count": 20,
   "metadata": {},
   "outputs": [],
   "source": [
    "# 환율, 통화량, 생산자 물가지수 연평균\n",
    "uskor_exchange_year = get_bok_df(*param_uskor_exchange)\n",
    "m2_year = get_bok_df(*param_m2)\n",
    "PPI_year = get_bok_df(*param_PPI)\n",
    "\n",
    "# 월단위 정책금리\n",
    "kr_policyratio_month  = get_bok_df(*param_kr_policyratio)\n",
    "us_policyratio_month = get_bok_df(*param_us_policyratio)"
   ]
  },
  {
   "cell_type": "markdown",
   "metadata": {},
   "source": [
    "### 최저임금 데이터 로드 - csv file"
   ]
  },
  {
   "cell_type": "code",
   "execution_count": 22,
   "metadata": {},
   "outputs": [],
   "source": [
    "minimum_wage_1423 = pd.read_csv(\"C:/Users/USER_20211027/Desktop/final_project/github/Final-Project/data/고용노동부_연도별 최저임금_2014_2023.csv\", encoding=\"utf-8\")"
   ]
  },
  {
   "cell_type": "markdown",
   "metadata": {},
   "source": [
    "## 데이터 프레임으로 저장"
   ]
  },
  {
   "cell_type": "markdown",
   "metadata": {},
   "source": [
    "# DB 전송"
   ]
  },
  {
   "cell_type": "code",
   "execution_count": 25,
   "metadata": {},
   "outputs": [],
   "source": [
    "def pythondf_to_DB(dataframe_name, database_name, desired_table_name):\n",
    "\timport pymysql\n",
    "\tfrom sqlalchemy import create_engine\n",
    "\tfrom sqlalchemy.orm import sessionmaker\n",
    "\tusername = 'multi'\n",
    "\tpassword = 'Campus123!'\n",
    "\thostname =  'ec2-15-152-211-160.ap-northeast-3.compute.amazonaws.com'\n",
    "\tdatabase_name = database_name\n",
    "\tdesired_table_name = desired_table_name\n",
    "\tcnx = pymysql.connect(user=username, password=password, host=hostname)\n",
    "\tcursor = cnx.cursor()\n",
    "\tengine = create_engine(\"mysql+pymysql://{user}:{pw}@{host}/{db}\"\n",
    "\t\t\t\t\t\t.format(user=username,\n",
    "\t\t\t\t\t\t\t\tpw=password,\n",
    "\t\t\t\t\t\t\t\tdb=database_name,\n",
    "\t\t\t\t\t\t\t\thost=hostname))\n",
    "\tSession = sessionmaker(bind=engine)\n",
    "\tsession = Session()\n",
    "\ttry:\n",
    "\t\t# Change df name\n",
    "\t\tdataframe_name.to_sql(desired_table_name, con=engine, if_exists='replace', index=False, chunksize = 1000)\n",
    "\t\tsession.commit()\n",
    "\texcept:\n",
    "\t\tsession.rollback()\n",
    "\t\traise\n",
    "\tfinally:\n",
    "\t\tsession.close()\n",
    "\tcursor.close()"
   ]
  },
  {
   "cell_type": "markdown",
   "metadata": {},
   "source": [
    "## Data Lake upload"
   ]
  },
  {
   "cell_type": "code",
   "execution_count": 27,
   "metadata": {},
   "outputs": [],
   "source": [
    "# def pythondf_to_DB(dataframe_name, \"database_name\", \"desired_table_name\")\n",
    "\n",
    "# 연평균 원/달러 환율\n",
    "pythondf_to_DB(uskor_exchange_year, \"Data_Lake\", \"uskor_exchange_year\")\n",
    "\n",
    "# 연평균 통화량\n",
    "pythondf_to_DB(m2_year, \"Data_Lake\", \"m2_year\")\n",
    "\n",
    "# 연평균 생산자 물가\n",
    "pythondf_to_DB(PPI_year, \"Data_Lake\", \"PPI_year\")\n",
    "\n",
    "# 한국, 미국 월단위 정책금리\n",
    "pythondf_to_DB(kr_policyratio_month, \"Data_Lake\", \"kr_policyratio_month\")\n",
    "pythondf_to_DB(us_policyratio_month, \"Data_Lake\", \"us_policyratio_month\")\n",
    "\n",
    "# 연별 최저임금\n",
    "pythondf_to_DB(minimum_wage_1423, \"Data_Lake\", \"minimum_wage_1423\")"
   ]
  },
  {
   "cell_type": "code",
   "execution_count": 30,
   "metadata": {},
   "outputs": [],
   "source": [
    "kr_policyratio_month['TIME'] = pd.to_datetime(kr_policyratio_month['TIME'], format='%Y%m')\n",
    "kr_policyratio_month['YEAR'] = kr_policyratio_month['TIME'].dt.year\n",
    "kr_policyratio_month['DATA_VALUE'] = kr_policyratio_month['DATA_VALUE'].astype(float)\n",
    "kr_policyratio_year = kr_policyratio_month.groupby('YEAR')['DATA_VALUE'].mean().round(4)\n",
    "\n",
    "us_policyratio_month['TIME'] = pd.to_datetime(us_policyratio_month['TIME'], format='%Y%m')\n",
    "us_policyratio_month['YEAR'] = us_policyratio_month['TIME'].dt.year\n",
    "us_policyratio_month['DATA_VALUE'] = us_policyratio_month['DATA_VALUE'].astype(float)\n",
    "us_policyratio_year = us_policyratio_month.groupby('YEAR')['DATA_VALUE'].mean().round(4)"
   ]
  },
  {
   "cell_type": "markdown",
   "metadata": {},
   "source": [
    "# Data Warehouse"
   ]
  },
  {
   "cell_type": "code",
   "execution_count": 35,
   "metadata": {},
   "outputs": [],
   "source": [
    "# 한국정책금리 - 미국정책금리 -> 양수값이 나오면 한국정책금리 > 미국정책금리\n",
    "kr_minus_us_policyratio = kr_policyratio_year - us_policyratio_year\n",
    "krus_diff_policyratio = pd.DataFrame({'year': kr_minus_us_policyratio.index, 'kr_minus_us_rate': kr_minus_us_policyratio.values})\n",
    "\n",
    "# # 결과 출력\n",
    "# print(df_kr_minus_us_policyratio)"
   ]
  },
  {
   "cell_type": "code",
   "execution_count": 36,
   "metadata": {},
   "outputs": [
    {
     "data": {
      "text/html": [
       "<div>\n",
       "<style scoped>\n",
       "    .dataframe tbody tr th:only-of-type {\n",
       "        vertical-align: middle;\n",
       "    }\n",
       "\n",
       "    .dataframe tbody tr th {\n",
       "        vertical-align: top;\n",
       "    }\n",
       "\n",
       "    .dataframe thead th {\n",
       "        text-align: right;\n",
       "    }\n",
       "</style>\n",
       "<table border=\"1\" class=\"dataframe\">\n",
       "  <thead>\n",
       "    <tr style=\"text-align: right;\">\n",
       "      <th></th>\n",
       "      <th>year</th>\n",
       "      <th>kr_minus_us_rate</th>\n",
       "    </tr>\n",
       "  </thead>\n",
       "  <tbody>\n",
       "    <tr>\n",
       "      <th>0</th>\n",
       "      <td>2018</td>\n",
       "      <td>-0.2916</td>\n",
       "    </tr>\n",
       "    <tr>\n",
       "      <th>1</th>\n",
       "      <td>2019</td>\n",
       "      <td>-0.5625</td>\n",
       "    </tr>\n",
       "    <tr>\n",
       "      <th>2</th>\n",
       "      <td>2020</td>\n",
       "      <td>0.2917</td>\n",
       "    </tr>\n",
       "    <tr>\n",
       "      <th>3</th>\n",
       "      <td>2021</td>\n",
       "      <td>0.5208</td>\n",
       "    </tr>\n",
       "    <tr>\n",
       "      <th>4</th>\n",
       "      <td>2022</td>\n",
       "      <td>0.2292</td>\n",
       "    </tr>\n",
       "  </tbody>\n",
       "</table>\n",
       "</div>"
      ],
      "text/plain": [
       "   year  kr_minus_us_rate\n",
       "0  2018           -0.2916\n",
       "1  2019           -0.5625\n",
       "2  2020            0.2917\n",
       "3  2021            0.5208\n",
       "4  2022            0.2292"
      ]
     },
     "execution_count": 36,
     "metadata": {},
     "output_type": "execute_result"
    }
   ],
   "source": [
    "krus_diff_policyratio"
   ]
  },
  {
   "cell_type": "code",
   "execution_count": 44,
   "metadata": {},
   "outputs": [],
   "source": [
    "uskor_exchange_year_average = uskor_exchange_year[uskor_exchange_year.ITEM_NAME2==\"평균자료\"]"
   ]
  },
  {
   "cell_type": "code",
   "execution_count": 46,
   "metadata": {},
   "outputs": [],
   "source": [
    "df = uskor_exchange_year_average[['TIME', 'DATA_VALUE']]"
   ]
  },
  {
   "cell_type": "code",
   "execution_count": 47,
   "metadata": {},
   "outputs": [
    {
     "data": {
      "text/html": [
       "<div>\n",
       "<style scoped>\n",
       "    .dataframe tbody tr th:only-of-type {\n",
       "        vertical-align: middle;\n",
       "    }\n",
       "\n",
       "    .dataframe tbody tr th {\n",
       "        vertical-align: top;\n",
       "    }\n",
       "\n",
       "    .dataframe thead th {\n",
       "        text-align: right;\n",
       "    }\n",
       "</style>\n",
       "<table border=\"1\" class=\"dataframe\">\n",
       "  <thead>\n",
       "    <tr style=\"text-align: right;\">\n",
       "      <th></th>\n",
       "      <th>TIME</th>\n",
       "      <th>DATA_VALUE</th>\n",
       "    </tr>\n",
       "  </thead>\n",
       "  <tbody>\n",
       "    <tr>\n",
       "      <th>0</th>\n",
       "      <td>2018</td>\n",
       "      <td>1100.58</td>\n",
       "    </tr>\n",
       "    <tr>\n",
       "      <th>1</th>\n",
       "      <td>2019</td>\n",
       "      <td>1166.11</td>\n",
       "    </tr>\n",
       "    <tr>\n",
       "      <th>2</th>\n",
       "      <td>2020</td>\n",
       "      <td>1180.01</td>\n",
       "    </tr>\n",
       "    <tr>\n",
       "      <th>3</th>\n",
       "      <td>2021</td>\n",
       "      <td>1144.61</td>\n",
       "    </tr>\n",
       "    <tr>\n",
       "      <th>4</th>\n",
       "      <td>2022</td>\n",
       "      <td>1292.2</td>\n",
       "    </tr>\n",
       "  </tbody>\n",
       "</table>\n",
       "</div>"
      ],
      "text/plain": [
       "   TIME DATA_VALUE\n",
       "0  2018    1100.58\n",
       "1  2019    1166.11\n",
       "2  2020    1180.01\n",
       "3  2021    1144.61\n",
       "4  2022     1292.2"
      ]
     },
     "execution_count": 47,
     "metadata": {},
     "output_type": "execute_result"
    }
   ],
   "source": [
    "df"
   ]
  },
  {
   "cell_type": "markdown",
   "metadata": {},
   "source": [
    "## 파라미터 정보"
   ]
  },
  {
   "cell_type": "code",
   "execution_count": null,
   "metadata": {},
   "outputs": [],
   "source": [
    "# 원화의 대미 달러 종가기준 연평균\n",
    "param_uskor_exchange = ['731Y006', 'A', 2018, 2022, '0000003']\n",
    "\n",
    "# M2 경제주체별 연평균, 단위 십억원\n",
    "param_m2 = ['101Y015', 'A', 2018, 2022, 'BBHA00']\n",
    "\n",
    "# 생산자물가지수 연평균, 2015년 PPI를 100으로 함.\n",
    "param_PPI = ['404Y014', 'A', 2018, 2022, '*AA']\n",
    "\n",
    "\n",
    "# 한국 정책금리 월단위\n",
    "param_kr_policyratio = ['902Y006', 'M', 201801, 202212, 'KR']\n",
    "# 미국 정책금리 월단위\n",
    "param_us_policyratio = ['902Y006', 'M', 201801, 202212, 'US']\n",
    "\n",
    "# # 한국은행 기준금리 일단위\n",
    "# param_kor_standard_yield = ['722Y001', 'D', 20180101, 20221231, '0101000']\n",
    "# # 국고채 3년물 금리 일단위 -> 집계필요\n",
    "# param_kor_govrn_3ybond = ['817Y002', 'D', 20180101, 20221231, '010200000'] "
   ]
  },
  {
   "cell_type": "code",
   "execution_count": null,
   "metadata": {},
   "outputs": [],
   "source": [
    "# 환율, 통화량, 생산자 물가지수 연평균\n",
    "df_uskor_exchange = get_bok_df(*param_uskor_exchange)\n",
    "df_m2 = get_bok_df(*param_m2)\n",
    "df_PPI = get_bok_df(*param_PPI)\n",
    "\n",
    "# 월단위 정책금리\n",
    "df_kr_policyratio  = get_bok_df(*param_kr_policyratio)\n",
    "df_us_policyratio = get_bok_df(*param_us_policyratio)"
   ]
  },
  {
   "cell_type": "markdown",
   "metadata": {},
   "source": [
    "### 최저임금 데이터 로드 - csv file"
   ]
  },
  {
   "cell_type": "code",
   "execution_count": null,
   "metadata": {},
   "outputs": [],
   "source": [
    "df_minimum_wage = pd.read_csv(\"C:/Users/USER_20211027/Desktop/final_project/github/Final-Project/data/고용노동부_연도별 최저임금_2014_2023.csv\")"
   ]
  },
  {
   "cell_type": "markdown",
   "metadata": {},
   "source": [
    "# DB 전송"
   ]
  },
  {
   "cell_type": "code",
   "execution_count": null,
   "metadata": {},
   "outputs": [],
   "source": [
    "def pythondf_to_DB(dataframe, database_name, table_name):\n",
    "\timport pymysql\n",
    "\tfrom sqlalchemy import create_engine\n",
    "\tfrom sqlalchemy.orm import sessionmaker\n",
    "\tusername = 'multi'\n",
    "\tpassword = 'Campus123!'\n",
    "\thostname =  'ec2-15-152-211-160.ap-northeast-3.compute.amazonaws.com'\n",
    "\tdatabase_name = database_name\n",
    "\tdesired_table_name = table_name\n",
    "\tcnx = pymysql.connect(user=username, password=password, host=hostname)\n",
    "\tcursor = cnx.cursor()\n",
    "\tengine = create_engine(\"mysql+pymysql://{user}:{pw}@{host}/{db}\"\n",
    "\t\t\t\t\t\t.format(user=username,\n",
    "\t\t\t\t\t\t\t\tpw=password,\n",
    "\t\t\t\t\t\t\t\tdb=database_name,\n",
    "\t\t\t\t\t\t\t\thost=hostname))\n",
    "\tSession = sessionmaker(bind=engine)\n",
    "\tsession = Session()\n",
    "\ttry:\n",
    "\t\t# Change df name\n",
    "\t\tdataframe.to_sql(desired_table_name, con=engine, if_exists='replace', index=False, chunksize = 1000)\n",
    "\t\tsession.commit()\n",
    "\texcept:\n",
    "\t\tsession.rollback()\n",
    "\t\traise\n",
    "\tfinally:\n",
    "\t\tsession.close()\n",
    "\tcursor.close()"
   ]
  },
  {
   "cell_type": "markdown",
   "metadata": {},
   "source": [
    "## Data Lake upload"
   ]
  },
  {
   "cell_type": "code",
   "execution_count": null,
   "metadata": {},
   "outputs": [
    {
     "ename": "NameError",
     "evalue": "name 'pythondf_to_DB' is not defined",
     "output_type": "error",
     "traceback": [
      "\u001b[1;31m---------------------------------------------------------------------------\u001b[0m\n",
      "\u001b[1;31mNameError\u001b[0m                                 Traceback (most recent call last)\n",
      "\u001b[1;32mc:\\Users\\USER_20211027\\Desktop\\final_project\\github\\Final-Project\\src\\crawling\\economic_index\\한국은행 API크롤러.ipynb 셀 9\u001b[0m in \u001b[0;36m<cell line: 2>\u001b[1;34m()\u001b[0m\n",
      "\u001b[0;32m      <a href='vscode-notebook-cell:/c%3A/Users/USER_20211027/Desktop/final_project/github/Final-Project/src/crawling/economic_index/%ED%95%9C%EA%B5%AD%EC%9D%80%ED%96%89%20API%ED%81%AC%EB%A1%A4%EB%9F%AC.ipynb#X36sZmlsZQ%3D%3D?line=0'>1</a>\u001b[0m \u001b[39m# 사용할 데이터프레임\u001b[39;00m\n",
      "\u001b[1;32m----> <a href='vscode-notebook-cell:/c%3A/Users/USER_20211027/Desktop/final_project/github/Final-Project/src/crawling/economic_index/%ED%95%9C%EA%B5%AD%EC%9D%80%ED%96%89%20API%ED%81%AC%EB%A1%A4%EB%9F%AC.ipynb#X36sZmlsZQ%3D%3D?line=1'>2</a>\u001b[0m pythondf_to_DB(df_uskor_exchange, database_name, df_uskor_exchange)\n",
      "\u001b[0;32m      <a href='vscode-notebook-cell:/c%3A/Users/USER_20211027/Desktop/final_project/github/Final-Project/src/crawling/economic_index/%ED%95%9C%EA%B5%AD%EC%9D%80%ED%96%89%20API%ED%81%AC%EB%A1%A4%EB%9F%AC.ipynb#X36sZmlsZQ%3D%3D?line=2'>3</a>\u001b[0m pythondf_to_DB(df_uskor_exchange, database_name, df_uskor_exchange)\n",
      "\u001b[0;32m      <a href='vscode-notebook-cell:/c%3A/Users/USER_20211027/Desktop/final_project/github/Final-Project/src/crawling/economic_index/%ED%95%9C%EA%B5%AD%EC%9D%80%ED%96%89%20API%ED%81%AC%EB%A1%A4%EB%9F%AC.ipynb#X36sZmlsZQ%3D%3D?line=3'>4</a>\u001b[0m pythondf_to_DB(df_uskor_exchange, database_name, df_uskor_exchange)\n",
      "\n",
      "\u001b[1;31mNameError\u001b[0m: name 'pythondf_to_DB' is not defined"
     ]
    }
   ],
   "source": [
    "# def pythondf_to_DB(dataframe, database_name, table_name):\n",
    "\n",
    "# 미국한국 환율\n",
    "pythondf_to_DB(df_uskor_exchange, database_name, df_uskor_exchange)\n",
    "\n",
    "# 연평균 통화량\n",
    "pythondf_to_DB(df_m2, database_name, df_m2)\n",
    "\n",
    "# 연평균 생산자 물가\n",
    "pythondf_to_DB(df_PPI, database_name, df_PPI)\n",
    "\n",
    "# 한국 미국 월단위 정책금리\n",
    "pythondf_to_DB(df_kr_policyratio, database_name, df_kr_policyratio)\n",
    "pythondf_to_DB(df_us_policyratio, database_name, df_us_policyratio)\n",
    "\n",
    "# 최저임금\n",
    "pythondf_to_DB(df_minimum_wage, database_name, df_minimum_wage)\n"
   ]
  },
  {
   "cell_type": "code",
   "execution_count": null,
   "metadata": {},
   "outputs": [],
   "source": [
    "df_kr_policyratio['TIME'] = pd.to_datetime(df_kr_policyratio['TIME'], format='%Y%m')\n",
    "df_kr_policyratio['YEAR'] = df_kr_policyratio['TIME'].dt.year\n",
    "df_kr_policyratio['DATA_VALUE'] = df_kr_policyratio['DATA_VALUE'].astype(float)\n",
    "kr_year_policyratio = df_kr_policyratio.groupby('YEAR')['DATA_VALUE'].mean().round(4)\n",
    "\n",
    "df_us_policyratio['TIME'] = pd.to_datetime(df_us_policyratio['TIME'], format='%Y%m')\n",
    "df_us_policyratio['YEAR'] = df_us_policyratio['TIME'].dt.year\n",
    "df_us_policyratio['DATA_VALUE'] = df_us_policyratio['DATA_VALUE'].astype(float)\n",
    "us_year_policyratio = df_us_policyratio.groupby('YEAR')['DATA_VALUE'].mean().round(4)"
   ]
  },
  {
   "cell_type": "code",
   "execution_count": null,
   "metadata": {},
   "outputs": [],
   "source": [
    "# 한국정책금리 - 미국정책금리 -> 양수값이 나오면 한국정책금리 > 미국정책금리\n",
    "kr_minus_us_policyratio = kr_year_policyratio - us_year_policyratio\n",
    "df_kr_minus_us_policyratio = pd.DataFrame({'YEAR': kr_minus_us_policyratio.index, 'KR MINUS US RATE': kr_minus_us_policyratio.values})\n",
    "\n",
    "# # 결과 출력\n",
    "# print(df_kr_minus_us_policyratio)"
   ]
  },
  {
   "cell_type": "code",
   "execution_count": null,
   "metadata": {},
   "outputs": [],
   "source": [
    "df_minimum_wage = pd.read_csv(\"고용노동부_연도별 최저임금_20220805.csv\")"
   ]
  },
  {
   "cell_type": "code",
   "execution_count": null,
   "metadata": {},
   "outputs": [
    {
     "data": {
      "text/plain": [
       "YEAR\n",
       "2018   -0.2916\n",
       "2019   -0.5625\n",
       "2020    0.2917\n",
       "2021    0.5208\n",
       "2022    0.2292\n",
       "Name: DATA_VALUE, dtype: float64"
      ]
     },
     "metadata": {},
     "output_type": "display_data"
    }
   ],
   "source": [
    "kr_minus_us_policyratio"
   ]
  },
  {
   "cell_type": "code",
   "execution_count": null,
   "metadata": {},
   "outputs": [
    {
     "data": {
      "text/plain": [
       "YEAR\n",
       "2018   -0.2916\n",
       "2019   -0.5625\n",
       "2020    0.2917\n",
       "2021    0.5208\n",
       "2022    0.2292\n",
       "Name: DATA_VALUE, dtype: float64"
      ]
     },
     "metadata": {},
     "output_type": "display_data"
    }
   ],
   "source": [
    "kr_minus_us_policyratio"
   ]
  }
 ],
 "metadata": {
  "kernelspec": {
   "display_name": "venv",
   "language": "python",
   "name": "python3"
  },
  "language_info": {
   "codemirror_mode": {
    "name": "ipython",
    "version": 3
   },
   "file_extension": ".py",
   "mimetype": "text/x-python",
   "name": "python",
   "nbconvert_exporter": "python",
   "pygments_lexer": "ipython3",
   "version": "3.9.12"
  },
  "orig_nbformat": 4
 },
 "nbformat": 4,
 "nbformat_minor": 2
}
