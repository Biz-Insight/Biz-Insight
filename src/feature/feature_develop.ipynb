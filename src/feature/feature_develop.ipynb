{
 "cells": [
  {
   "attachments": {},
   "cell_type": "markdown",
   "metadata": {},
   "source": [
    "### Features preprocessed from preprocess.ipynb"
   ]
  },
  {
   "cell_type": "code",
   "execution_count": 11,
   "metadata": {},
   "outputs": [],
   "source": [
    "import pandas as pd \n",
    "import numpy as np \n",
    "\n",
    "fs_features = pd.read_csv('feature_preprocessed.csv')"
   ]
  },
  {
   "cell_type": "code",
   "execution_count": 35,
   "metadata": {},
   "outputs": [],
   "source": [
    "dev_features = fs_features[['corp', 'year']].copy()\n",
    "dev_features['operating_margin'] = fs_features['operating_income'] / fs_features['revenue'] * 100 \n",
    "dev_features['ROA'] = fs_features['net_income'] / fs_features['total_assets'] * 100\n",
    "dev_features['ROE'] = fs_features['net_income'] / (fs_features['total_assets'] - fs_features['total_liabilities']) * 100\n",
    "dev_features['EPS'] = fs_features['net_income'] / fs_features['outstanding_shares']\n",
    "dev_features['debt_ratio'] = fs_features['total_liabilities'] / fs_features['total_assets'] * 100\n",
    "\n",
    "dev_features['current_ratio'] = fs_features['current_assets'] / fs_features['current_liabilities']\n",
    "dev_features['quick_ratio'] = (fs_features['current_assets'] - fs_features['inventory']) / fs_features['current_liabilities']\n",
    "dev_features['net_working_capital_ratio'] = fs_features['net_working_capital'] / fs_features['total_assets']\n",
    "\n",
    "dev_features['illiquid_ratio'] = fs_features['non_current_assets'] / fs_features['non_current_liabilities']"
   ]
  },
  {
   "cell_type": "code",
   "execution_count": 36,
   "metadata": {},
   "outputs": [],
   "source": [
    "dev_features.to_csv('dev_features.csv', encoding='utf-8-sig', index=False)"
   ]
  }
 ],
 "metadata": {
  "kernelspec": {
   "display_name": "base",
   "language": "python",
   "name": "python3"
  },
  "language_info": {
   "codemirror_mode": {
    "name": "ipython",
    "version": 3
   },
   "file_extension": ".py",
   "mimetype": "text/x-python",
   "name": "python",
   "nbconvert_exporter": "python",
   "pygments_lexer": "ipython3",
   "version": "3.10.9"
  },
  "orig_nbformat": 4
 },
 "nbformat": 4,
 "nbformat_minor": 2
}
